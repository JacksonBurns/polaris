{
 "cells": [
  {
   "cell_type": "markdown",
   "id": "172ae3e5",
   "metadata": {},
   "source": [
    "# Custom datasets and benchmarks\n",
    "We have already seen how easy it is to load a benchmark or dataset from the Polaris Hub. Let's now see how you could create your own!\n",
    "\n",
    "\n",
    "\n",
    "**Overview**:\n",
    "- [How to use the polaris library to curate your own datasets?](#curate)\n",
    "- [How to create Dataset?](#dataset)"
   ]
  },
  {
   "cell_type": "markdown",
   "id": "5131dc8b-f5ba-4ff4-9ed4-39c3925cf5b7",
   "metadata": {},
   "source": [
    "## Create the dataset\n",
    "\n",
    "A dataset in Polaris is at its core a tabular data-structure in which each row stores a single datapoint. For this example, we used the curated dataset from [02.Data_curation.ipynb](https://github.com/polaris-hub/polaris/blob/hub-integration/docs/tutorials/02.Data_curation.ipynb)."
   ]
  },
  {
   "cell_type": "code",
   "execution_count": 54,
   "id": "ac022dca-9937-423d-ae6c-f19bf3835c8f",
   "metadata": {},
   "outputs": [
    {
     "name": "stdout",
     "output_type": "stream",
     "text": [
      "The autoreload extension is already loaded. To reload it, use:\n",
      "  %reload_ext autoreload\n"
     ]
    }
   ],
   "source": [
    "%load_ext autoreload\n",
    "%autoreload 2\n",
    "import tempfile\n",
    "import datamol as dm\n",
    "import pandas as pd\n",
    "import polaris as po\n",
    "from polaris import curation\n",
    "import warnings\n",
    "\n",
    "warnings.filterwarnings(\"ignore\")\n",
    "from IPython import display\n",
    "from polaris.curation.utils import visulize_distribution, verify_stereoisomers, check_undefined_stereocenters\n",
    "from polaris.benchmark import MultiTaskBenchmarkSpecification\n",
    "from polaris.dataset import Dataset, ColumnAnnotation"
   ]
  },
  {
   "cell_type": "code",
   "execution_count": 24,
   "id": "4a60e0a5-5dee-4125-8dd6-5f4353d17a14",
   "metadata": {},
   "outputs": [
    {
     "name": "stderr",
     "output_type": "stream",
     "text": [
      "\u001b[32m2023-10-12 14:57:34.940\u001b[0m | \u001b[1mINFO    \u001b[0m | \u001b[36mpolaris.hub.client\u001b[0m:\u001b[36mlogin\u001b[0m:\u001b[36m234\u001b[0m - \u001b[1mYou are already logged in to the Polaris Hub as luzhu (lu@valencediscovery.com). Set `overwrite=True` to force re-authentication.\u001b[0m\n"
     ]
    }
   ],
   "source": [
    "from polaris.hub.client import PolarisHubClient\n",
    "\n",
    "client = PolarisHubClient()\n",
    "client.login()"
   ]
  },
  {
   "cell_type": "code",
   "execution_count": 47,
   "id": "9ecc653f-ec84-4102-aa22-cada0377c964",
   "metadata": {},
   "outputs": [],
   "source": [
    "# define the owner of the dataset and benchmark, Optional\n",
    "from polaris.utils.types import HubOwner\n",
    "\n",
    "owner = HubOwner(organizationId=\"polaristest\", slug=\"polaristest\")"
   ]
  },
  {
   "cell_type": "code",
   "execution_count": 17,
   "id": "977970cf",
   "metadata": {},
   "outputs": [],
   "source": [
    "import platformdirs\n",
    "import datamol as dm\n",
    "\n",
    "# We will save the data for this tutorial to our cache dir!\n",
    "SAVE_DIR = dm.fs.join(platformdirs.user_cache_dir(appname=\"polaris-tutorials\"), \"001\")"
   ]
  },
  {
   "cell_type": "code",
   "execution_count": 91,
   "id": "917f6297",
   "metadata": {},
   "outputs": [],
   "source": [
    "# Load dataset\n",
    "# table = pd.read_csv(\"data/tutorial_data_curated.csv\")\n",
    "table = datamol.data.freesolv()"
   ]
  },
  {
   "cell_type": "markdown",
   "id": "b330cf1a-bcb8-44d1-a6d2-54f468749083",
   "metadata": {},
   "source": [
    "<a id='dataset'></a>\n",
    "## How to create Dataset?"
   ]
  },
  {
   "cell_type": "markdown",
   "id": "46bfa216-95e8-4f16-9be3-74d6749a621d",
   "metadata": {},
   "source": [
    "**Define the annotation of the dataset by `polaris.dataset.ColumnAnnoation`**\n",
    "\n",
    "It's necessary to specify the key bioactivity columns, molecules structures and identifiers in dataset with `ColumnAnnotation`. It is possible to add `user_attributes` with any key and values when is needed, such as `unit`, `organism`, `scale` and optimization `objective`. "
   ]
  },
  {
   "cell_type": "code",
   "execution_count": 94,
   "id": "3145fc25-e670-413a-8926-8ab9d6fcb3b0",
   "metadata": {},
   "outputs": [],
   "source": [
    "annotations = {\n",
    "    \"iupac\": ColumnAnnotation(desription=\"Compound ID from original dataset.\"),\n",
    "    \"smiles\": ColumnAnnotation(desription=\"Molecule SMILES string after cleaning and standardization.\"),\n",
    "    \"expt\": ColumnAnnotation(desription=\"Experimental small molecule hydration free energies\"),\n",
    "    \"calc\": ColumnAnnotation(desription=\"Calculated small molecule hydration free energies\"),\n",
    "}"
   ]
  },
  {
   "cell_type": "code",
   "execution_count": 95,
   "id": "9e606547-f711-4e4d-8c93-97002a8a2236",
   "metadata": {},
   "outputs": [],
   "source": [
    "# Define Dataset object\n",
    "dataset = Dataset(\n",
    "    table=table,\n",
    "    name=\"tutorial_freesol\",\n",
    "    description=\"FreeSolv: Experimental and Calculated Small Molecule Hydration Free Energies\",\n",
    "    source=\"https://github.com/MobleyLab/FreeSolv\",\n",
    "    annotations=annotations,\n",
    "    owner=owner,\n",
    "    tags=[\"polaris-tutorial\"],\n",
    ")"
   ]
  },
  {
   "cell_type": "markdown",
   "id": "19bfee67-cda4-43d8-b9fd-31e8bf09de68",
   "metadata": {},
   "source": [
    "**Save the dataset to a local path**"
   ]
  },
  {
   "cell_type": "code",
   "execution_count": 96,
   "id": "9c7766c1-ae85-4d0e-9757-aa5c495bc95e",
   "metadata": {},
   "outputs": [],
   "source": [
    "temp_dir = tempfile.TemporaryDirectory().name"
   ]
  },
  {
   "cell_type": "code",
   "execution_count": 97,
   "id": "1b8d6aa6-9ca7-41dd-b219-9fbee813bc61",
   "metadata": {},
   "outputs": [
    {
     "data": {
      "text/plain": [
       "'/var/folders/_7/ffxc1f251dbb5msn977xl4sm0000gr/T/tmp3h1u3cx4/dataset/rdkit_solubility/dataset.json'"
      ]
     },
     "execution_count": 97,
     "metadata": {},
     "output_type": "execute_result"
    }
   ],
   "source": [
    "SAVE_DIR = f\"{temp_dir}/dataset/rdkit_solubility\"\n",
    "dataset.to_json(SAVE_DIR)"
   ]
  },
  {
   "cell_type": "markdown",
   "id": "637525f8-5d00-4937-8c0c-29876a309e46",
   "metadata": {},
   "source": [
    "**OR Upload dataset to the hub**"
   ]
  },
  {
   "cell_type": "code",
   "execution_count": 98,
   "id": "6bae814c-9f94-4c85-9a55-834b8548388f",
   "metadata": {},
   "outputs": [
    {
     "name": "stderr",
     "output_type": "stream",
     "text": [
      "\u001b[32m2023-10-12 15:48:41.453\u001b[0m | \u001b[1mINFO    \u001b[0m | \u001b[36mpolaris.hub.client\u001b[0m:\u001b[36mlogin\u001b[0m:\u001b[36m234\u001b[0m - \u001b[1mYou are already logged in to the Polaris Hub as luzhu (lu@valencediscovery.com). Set `overwrite=True` to force re-authentication.\u001b[0m\n"
     ]
    }
   ],
   "source": [
    "from polaris.hub.client import PolarisHubClient\n",
    "\n",
    "client = PolarisHubClient()\n",
    "client.login()"
   ]
  },
  {
   "cell_type": "code",
   "execution_count": 99,
   "id": "e98d9a66-dcd2-451e-8fb2-b603c344e87f",
   "metadata": {
    "scrolled": true
   },
   "outputs": [
    {
     "name": "stderr",
     "output_type": "stream",
     "text": [
      "\u001b[32m2023-10-12 15:48:49.958\u001b[0m | \u001b[32m\u001b[1mSUCCESS \u001b[0m | \u001b[36mpolaris.hub.client\u001b[0m:\u001b[36mupload_dataset\u001b[0m:\u001b[36m416\u001b[0m - \u001b[32m\u001b[1mYour dataset has been successfully uploaded to the Hub. View it here: https://polarishub.io//datasets/polaristest/tutorial_freesol\u001b[0m\n"
     ]
    }
   ],
   "source": [
    "# response = client.upload_dataset(dataset=dataset)"
   ]
  },
  {
   "cell_type": "code",
   "execution_count": null,
   "id": "d9c4b995-75d6-44cb-bedb-fea92059bcc4",
   "metadata": {},
   "outputs": [],
   "source": []
  },
  {
   "cell_type": "markdown",
   "id": "e146f9a6",
   "metadata": {},
   "source": [
    "## Create the benchmark specification\n",
    "A benchmark is represented by the `BenchmarkSpecification`, which wraps a `Dataset` with additional data to produce a benchmark.\n",
    "\n",
    "Specifically, it specifies:\n",
    "1. Which dataset to use (see Dataset);\n",
    "2. Which columns are used as input and which columns are used as target;\n",
    "3. Which metrics should be used to evaluate performance on this task;\n",
    "4. A predefined, static train-test split to use during evaluation."
   ]
  },
  {
   "cell_type": "markdown",
   "id": "bea8df67-7e10-4b45-993e-4a1e6b91bf5e",
   "metadata": {},
   "source": [
    "### SingleTaskBenchmark"
   ]
  },
  {
   "cell_type": "code",
   "execution_count": 102,
   "id": "3313a76b",
   "metadata": {},
   "outputs": [],
   "source": [
    "import numpy as np\n",
    "from polaris.benchmark import SingleTaskBenchmarkSpecification\n",
    "\n",
    "# For the sake of simplicity, we use a very simple, ordered split\n",
    "split = (np.arange(600).tolist(), (np.arange(42) + 600).tolist())  # train  # test\n",
    "\n",
    "benchmark = SingleTaskBenchmarkSpecification(\n",
    "    dataset=dataset,\n",
    "    target_cols=\"expt\",\n",
    "    input_cols=\"smiles\",\n",
    "    split=split,\n",
    "    metrics=\"mean_absolute_error\",\n",
    "    description=\"Single task benchmark for solubility\",\n",
    "    tags=[\"SingleTask\", \"Regression\"],\n",
    "    owner=owner,  # optional, but required for Polaris Hub upload\n",
    ")"
   ]
  },
  {
   "cell_type": "markdown",
   "id": "560c105b-0a01-41ed-a5da-08fcf0db820d",
   "metadata": {},
   "source": [
    "#### Evaluation metrics\n",
    "\n",
    "Metrics should be supported in the polaris framework\n",
    "For more information, see the `Metric` class."
   ]
  },
  {
   "cell_type": "code",
   "execution_count": 109,
   "id": "103f73d7",
   "metadata": {},
   "outputs": [
    {
     "data": {
      "text/plain": [
       "[<Metric.mean_absolute_error: MetricInfo(fn=<function mean_absolute_error at 0x169014720>, is_multitask=False)>,\n",
       " <Metric.mean_squared_error: MetricInfo(fn=<function mean_squared_error at 0x169014ae0>, is_multitask=False)>,\n",
       " <Metric.accuracy: MetricInfo(fn=<function accuracy_score at 0x1689e7240>, is_multitask=False)>]"
      ]
     },
     "execution_count": 109,
     "metadata": {},
     "output_type": "execute_result"
    }
   ],
   "source": [
    "from polaris.evaluate import Metric\n",
    "\n",
    "list(Metric)"
   ]
  },
  {
   "cell_type": "markdown",
   "id": "db0ee4c2",
   "metadata": {},
   "source": [
    "### MultiTaskBenchmark\n",
    "\n",
    "To support the vast flexibility in specifying a benchmark, we have different classes that correspond to different types of benchmarks. Each of these subclasses make the data-model or logic more specific to a particular case. For example, trying to create a multitask benchmark with the same arguments will throw an error as there is just a single target column specified. \n",
    "In this example, for simplicity columns `expt` and `calc` as targets are used for demonstration purpose. "
   ]
  },
  {
   "cell_type": "code",
   "execution_count": 118,
   "id": "1a036795",
   "metadata": {},
   "outputs": [],
   "source": [
    "# Let's try that again, but now with two target columns\n",
    "benchmark = MultiTaskBenchmarkSpecification(\n",
    "    dataset=dataset,\n",
    "    target_cols=[\"expt\", \"calc\"],\n",
    "    input_cols=\"smiles\",\n",
    "    split=split,\n",
    "    metrics=\"mean_absolute_error\",\n",
    "    description=\"Multitask regression benchmark for experimental and calculated free energy\",\n",
    "    owner=owner,\n",
    "    name=\"tutorial_freesolv\",\n",
    ")"
   ]
  },
  {
   "cell_type": "markdown",
   "id": "4c1bae4e",
   "metadata": {},
   "source": [
    "#### Save the benchmark\n",
    "Saving the benchmark is easy and can be done with a single line of code."
   ]
  },
  {
   "cell_type": "code",
   "execution_count": 119,
   "id": "adbaf57f",
   "metadata": {},
   "outputs": [
    {
     "data": {
      "text/plain": [
       "['/var/folders/_7/ffxc1f251dbb5msn977xl4sm0000gr/T/tmp3h1u3cx4/dataset/rdkit_solubility/table.parquet',\n",
       " '/var/folders/_7/ffxc1f251dbb5msn977xl4sm0000gr/T/tmp3h1u3cx4/dataset/rdkit_solubility/benchmark.json',\n",
       " '/var/folders/_7/ffxc1f251dbb5msn977xl4sm0000gr/T/tmp3h1u3cx4/dataset/rdkit_solubility/dataset.json']"
      ]
     },
     "execution_count": 119,
     "metadata": {},
     "output_type": "execute_result"
    }
   ],
   "source": [
    "path = benchmark.to_json(SAVE_DIR)\n",
    "fs = dm.fs.get_mapper(SAVE_DIR).fs\n",
    "fs.ls(SAVE_DIR)"
   ]
  },
  {
   "cell_type": "markdown",
   "id": "73a691ae",
   "metadata": {},
   "source": [
    "This created three files. Two `json` files and a single `parquet` file. The `parquet` file saves the tabular structure at the base of the `Dataset` class, whereas the `json` files save all the meta-data for the `Dataset` and `BenchmarkSpecification`."
   ]
  },
  {
   "cell_type": "markdown",
   "id": "1a88c7b9-63ab-4d33-aa46-614aa0f2bda9",
   "metadata": {},
   "source": [
    "### Upload benchmark to Polaris Hub"
   ]
  },
  {
   "cell_type": "code",
   "execution_count": 120,
   "id": "ca2d1529-3773-4caa-b12d-62865c477e76",
   "metadata": {},
   "outputs": [
    {
     "name": "stderr",
     "output_type": "stream",
     "text": [
      "\u001b[32m2023-10-12 16:25:08.736\u001b[0m | \u001b[32m\u001b[1mSUCCESS \u001b[0m | \u001b[36mpolaris.hub.client\u001b[0m:\u001b[36mupload_benchmark\u001b[0m:\u001b[36m453\u001b[0m - \u001b[32m\u001b[1mYour benchmark has been successfully uploaded to the Hub. View it here: https://polarishub.io//benchmarks/polaristest/tutorial_freesolv\u001b[0m\n"
     ]
    }
   ],
   "source": [
    "response = client.upload_benchmark(benchmark)"
   ]
  },
  {
   "cell_type": "code",
   "execution_count": null,
   "id": "03326574-cfb3-4516-be78-93a656552dd5",
   "metadata": {},
   "outputs": [],
   "source": []
  }
 ],
 "metadata": {
  "kernelspec": {
   "display_name": "Python 3 (ipykernel)",
   "language": "python",
   "name": "python3"
  },
  "language_info": {
   "codemirror_mode": {
    "name": "ipython",
    "version": 3
   },
   "file_extension": ".py",
   "mimetype": "text/x-python",
   "name": "python",
   "nbconvert_exporter": "python",
   "pygments_lexer": "ipython3",
   "version": "3.11.5"
  }
 },
 "nbformat": 4,
 "nbformat_minor": 5
}
