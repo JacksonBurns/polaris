{
 "cells": [
  {
   "cell_type": "markdown",
   "id": "7970f2e4-f809-4113-8a10-b67f0dfde2d4",
   "metadata": {},
   "source": [
    "# Basic functions to interact with Polaris hub"
   ]
  },
  {
   "cell_type": "code",
   "execution_count": 1,
   "id": "0bfd80d4-18e4-497f-bc03-6437b89bd711",
   "metadata": {},
   "outputs": [],
   "source": [
    "from copy import copy\n",
    "import polaris\n",
    "from polaris.hub.client import PolarisHubClient"
   ]
  },
  {
   "cell_type": "code",
   "execution_count": 2,
   "id": "ae7be20e-f460-40b6-83dd-1d2740ae1f97",
   "metadata": {},
   "outputs": [
    {
     "name": "stderr",
     "output_type": "stream",
     "text": [
      "\u001b[32m2023-10-06 15:22:41.807\u001b[0m | \u001b[1mINFO    \u001b[0m | \u001b[36mpolaris.hub.client\u001b[0m:\u001b[36mlogin\u001b[0m:\u001b[36m234\u001b[0m - \u001b[1mYou are already logged in to the Polaris Hub as luzhu (lu@valencediscovery.com). Set `overwrite=True` to force re-authentication.\u001b[0m\n"
     ]
    }
   ],
   "source": [
    "client = PolarisHubClient()\n",
    "client.login()"
   ]
  },
  {
   "cell_type": "markdown",
   "id": "7461f1b9-9da3-4ab5-9897-b626ab2953ca",
   "metadata": {},
   "source": [
    "### List all available datasets"
   ]
  },
  {
   "cell_type": "code",
   "execution_count": 10,
   "id": "acb87c3f-9625-48e1-aefd-ade3615d55a1",
   "metadata": {},
   "outputs": [
    {
     "data": {
      "text/plain": [
       "['polaristest/rdkit_solublity_10995896544',\n",
       " 'polaristest/rdkit_solublity_10__copy',\n",
       " 'polaristest/rdkit_solublity_10_copy',\n",
       " 'polaristest/rdkit_solublity_10',\n",
       " 'polaristest/rdkit_solublity_test_8',\n",
       " 'polaristest/rdkit_solublity_test_7',\n",
       " 'polaristest/rdkit_solublity_test_6',\n",
       " 'polaristest/rdkit_solublity_test_5',\n",
       " 'polaristest/rdkit_solublity_test_4',\n",
       " 'polaristest/rdkit_solublity_test_3',\n",
       " 'polaristest/rdkit_solublity_test_2',\n",
       " 'polaristest/rdkit_solublity_v4',\n",
       " 'polaristest/rdkit_solublity_v3',\n",
       " 'polaristest/rdkit_solublity_v2',\n",
       " 'polaristest/rdkit_solublity_v1',\n",
       " 'polaristest/LOK_SLK',\n",
       " 'polaristest/KIT_mutants',\n",
       " 'polaristest/KIT_WT',\n",
       " 'polaristest/RET_mutants',\n",
       " 'polaristest/RET_WT',\n",
       " 'polaristest/EGFR_WT',\n",
       " 'polaristest/EGFR_mutants',\n",
       " 'polaristest/MolProp250KLeadlike',\n",
       " 'polaristest/Fang_2023_ADME_public',\n",
       " 'polaristest/rdkit_solublity_test',\n",
       " 'polaristest/rdkit_solublity',\n",
       " 'polaristest/rdkit_solublity_test_1',\n",
       " 'polaristest/MolProp250K',\n",
       " 'polaristest/fang2023_public_set_test_2',\n",
       " 'polaristest/fang2023_public_set_test',\n",
       " 'polaristest/fang2023_public_set',\n",
       " 'jstl/Mixed_Case_Dataset_2023',\n",
       " 'jstl/my-dataset']"
      ]
     },
     "execution_count": 10,
     "metadata": {},
     "output_type": "execute_result"
    }
   ],
   "source": [
    "client.list_datasets()"
   ]
  },
  {
   "cell_type": "markdown",
   "id": "b75320cb-59a0-45fb-a77e-66b2c8333202",
   "metadata": {},
   "source": [
    "### Retrieve on dataset "
   ]
  },
  {
   "cell_type": "code",
   "execution_count": 4,
   "id": "d79b7711-ef5b-4d61-8f3f-59c2e398381b",
   "metadata": {},
   "outputs": [],
   "source": [
    "dataset = client.get_dataset(owner=\"polaristest\", name=\"rdkit_solublity_10\")"
   ]
  },
  {
   "cell_type": "code",
   "execution_count": 5,
   "id": "3efb86d8-e3b8-40f7-9f77-139399824b0c",
   "metadata": {},
   "outputs": [
    {
     "name": "stderr",
     "output_type": "stream",
     "text": [
      "/Users/lu.zhu/miniconda3/envs/pov3/lib/python3.11/site-packages/pydantic/main.py:309: UserWarning: Pydantic serializer warnings:\n",
      "  Expected `url` but got `str` - serialized value may not be as expected\n",
      "  return self.__pydantic_serializer__.to_python(\n"
     ]
    },
    {
     "data": {
      "text/html": [
       "<table border=\"1\"><tr><th>name</th><td>rdkit_solublity_10</td></tr><tr><th>description</th><td>The two sdf files(hereby named &#x27;solubility dataset&#x27;) are originated from the Huuskonen dataset. The Huuskonen dataset contains a training set of 884 compounds and a randomly chosen test set of 413 compounds.</td></tr><tr><th>tags</th><td></td></tr><tr><th>user_attributes</th><td></td></tr><tr><th>owner</th><td><table border=\"1\"><tr><th>organizationId</th><td>org_2VuFFDUgVqc7MI80w5LtujZBxSQ</td></tr><tr><th>userId</th><td>None</td></tr><tr><th>slug</th><td>polaristest</td></tr><tr><th>owner</th><td>org_2VuFFDUgVqc7MI80w5LtujZBxSQ</td></tr></table></td></tr><tr><th>md5sum</th><td>42150e51af6cb63fe0bf067906183967</td></tr><tr><th>annotations</th><td><table border=\"1\"><tr><th>ID</th><td><table border=\"1\"><tr><th>is_pointer</th><td>False</td></tr><tr><th>modality</th><td>UNKNOWN</td></tr><tr><th>description</th><td>Compound ID from original dataset.</td></tr><tr><th>user_attributes</th><td></td></tr></table></td></tr><tr><th>SOL</th><td><table border=\"1\"><tr><th>is_pointer</th><td>False</td></tr><tr><th>modality</th><td>UNKNOWN</td></tr><tr><th>description</th><td>Aqueous Solubility: logS</td></tr><tr><th>user_attributes</th><td></td></tr></table></td></tr><tr><th>smiles</th><td><table border=\"1\"><tr><th>is_pointer</th><td>False</td></tr><tr><th>modality</th><td>MOLECULE</td></tr><tr><th>description</th><td>Molecule SMILES string after cleaning and standardization.</td></tr><tr><th>user_attributes</th><td></td></tr></table></td></tr><tr><th>CLASS_SOL</th><td><table border=\"1\"><tr><th>is_pointer</th><td>False</td></tr><tr><th>modality</th><td>UNKNOWN</td></tr><tr><th>description</th><td>Binarized label based on the solubility</td></tr><tr><th>user_attributes</th><td></td></tr></table></td></tr><tr><th>molhash_id</th><td><table border=\"1\"><tr><th>is_pointer</th><td>False</td></tr><tr><th>modality</th><td>UNKNOWN</td></tr><tr><th>description</th><td>Molecular hash ID. See &lt;datamol.mol.hash_mol&gt;</td></tr><tr><th>user_attributes</th><td></td></tr></table></td></tr></table></td></tr><tr><th>source</th><td>https://github.com/rdkit/rdkit/tree/master/Docs/Book/data</td></tr><tr><th>license</th><td>None</td></tr><tr><th>cache_dir</th><td>/Users/lu.zhu/Library/Caches/polaris/datasets/rdkit_solublity_10/42150e51af6cb63fe0bf067906183967</td></tr></table>"
      ],
      "text/plain": [
       "{\n",
       "  \"name\": \"rdkit_solublity_10\",\n",
       "  \"description\": \"The two sdf files(hereby named 'solubility dataset') are originated from the Huuskonen dataset. The Huuskonen dataset contains a training set of 884 compounds and a randomly chosen test set of 413 compounds.\",\n",
       "  \"tags\": [],\n",
       "  \"user_attributes\": {},\n",
       "  \"owner\": {\n",
       "    \"organizationId\": \"org_2VuFFDUgVqc7MI80w5LtujZBxSQ\",\n",
       "    \"userId\": null,\n",
       "    \"slug\": \"polaristest\",\n",
       "    \"owner\": \"org_2VuFFDUgVqc7MI80w5LtujZBxSQ\"\n",
       "  },\n",
       "  \"md5sum\": \"42150e51af6cb63fe0bf067906183967\",\n",
       "  \"annotations\": {\n",
       "    \"ID\": {\n",
       "      \"is_pointer\": false,\n",
       "      \"modality\": \"UNKNOWN\",\n",
       "      \"description\": \"Compound ID from original dataset.\",\n",
       "      \"user_attributes\": {}\n",
       "    },\n",
       "    \"SOL\": {\n",
       "      \"is_pointer\": false,\n",
       "      \"modality\": \"UNKNOWN\",\n",
       "      \"description\": \"Aqueous Solubility: logS\",\n",
       "      \"user_attributes\": {}\n",
       "    },\n",
       "    \"smiles\": {\n",
       "      \"is_pointer\": false,\n",
       "      \"modality\": \"MOLECULE\",\n",
       "      \"description\": \"Molecule SMILES string after cleaning and standardization.\",\n",
       "      \"user_attributes\": {}\n",
       "    },\n",
       "    \"CLASS_SOL\": {\n",
       "      \"is_pointer\": false,\n",
       "      \"modality\": \"UNKNOWN\",\n",
       "      \"description\": \"Binarized label based on the solubility\",\n",
       "      \"user_attributes\": {}\n",
       "    },\n",
       "    \"molhash_id\": {\n",
       "      \"is_pointer\": false,\n",
       "      \"modality\": \"UNKNOWN\",\n",
       "      \"description\": \"Molecular hash ID. See <datamol.mol.hash_mol>\",\n",
       "      \"user_attributes\": {}\n",
       "    }\n",
       "  },\n",
       "  \"source\": \"https://github.com/rdkit/rdkit/tree/master/Docs/Book/data\",\n",
       "  \"license\": null,\n",
       "  \"cache_dir\": \"/Users/lu.zhu/Library/Caches/polaris/datasets/rdkit_solublity_10/42150e51af6cb63fe0bf067906183967\"\n",
       "}"
      ]
     },
     "execution_count": 5,
     "metadata": {},
     "output_type": "execute_result"
    }
   ],
   "source": [
    "dataset"
   ]
  },
  {
   "cell_type": "markdown",
   "id": "ed24c168-eb2c-48d1-ad30-77dd49b5d98c",
   "metadata": {},
   "source": [
    "#### Upload a new dataset to hub"
   ]
  },
  {
   "cell_type": "code",
   "execution_count": 11,
   "id": "e3f0a57a-4c98-47f2-990a-76bdd3ec0519",
   "metadata": {},
   "outputs": [],
   "source": [
    "dataset_copy = copy(dataset)\n",
    "dataset_copy.name = dataset.name + \"___copy\""
   ]
  },
  {
   "cell_type": "code",
   "execution_count": 12,
   "id": "4ae92f5d-ea14-4ee7-8c5d-461c1d8c5f28",
   "metadata": {},
   "outputs": [
    {
     "name": "stderr",
     "output_type": "stream",
     "text": [
      "/Users/lu.zhu/miniconda3/envs/pov3/lib/python3.11/site-packages/pydantic/main.py:309: UserWarning: Pydantic serializer warnings:\n",
      "  Expected `url` but got `str` - serialized value may not be as expected\n",
      "  return self.__pydantic_serializer__.to_python(\n",
      "\u001b[32m2023-10-06 15:23:52.401\u001b[0m | \u001b[32m\u001b[1mSUCCESS \u001b[0m | \u001b[36mpolaris.hub.client\u001b[0m:\u001b[36mupload_dataset\u001b[0m:\u001b[36m402\u001b[0m - \u001b[32m\u001b[1mYour dataset has been successfully uploaded to the Hub. View it here: https://polaris-hub.vercel.app//datasets/86YxD64Z90AEav12XyCbt\u001b[0m\n",
      "\u001b[32m2023-10-06 15:23:54.652\u001b[0m | \u001b[32m\u001b[1mSUCCESS \u001b[0m | \u001b[36mpolaris.hub.client\u001b[0m:\u001b[36mupload_dataset\u001b[0m:\u001b[36m420\u001b[0m - \u001b[32m\u001b[1mYour dataset parquet file has been successfully uploaded to the Hub. View it here: https://polaris-hub.vercel.app//storage/dataset/polaristest/rdkit_solublity_10___copy/table.parquet\u001b[0m\n"
     ]
    }
   ],
   "source": [
    "response = client.upload_dataset(dataset_copy)"
   ]
  },
  {
   "cell_type": "code",
   "execution_count": null,
   "id": "f903d0ce-d9f1-4064-8ea5-49e86c0f8e96",
   "metadata": {},
   "outputs": [],
   "source": []
  },
  {
   "cell_type": "markdown",
   "id": "0a99e8a6-7ee9-4a39-8ca4-67678418d25d",
   "metadata": {},
   "source": [
    "## List all the benchmarks"
   ]
  },
  {
   "cell_type": "code",
   "execution_count": 13,
   "id": "c3286c00-14f0-4164-81dd-39d84a08e10c",
   "metadata": {},
   "outputs": [
    {
     "data": {
      "text/plain": [
       "['polaristest/rdkit-solubility-benchmark-v10__copy',\n",
       " 'polaristest/rdkit-solubility-benchmark-v10_copy',\n",
       " 'polaristest/rdkit-solubility-benchmark-v10',\n",
       " 'polaristest/rdkit-solubility-benchmark-test',\n",
       " 'polaristest/rdkit-solubility-benchmark',\n",
       " 'test-ai/my-benchmark2']"
      ]
     },
     "execution_count": 13,
     "metadata": {},
     "output_type": "execute_result"
    }
   ],
   "source": [
    "client.list_benchmarks()"
   ]
  },
  {
   "cell_type": "markdown",
   "id": "b1861a42-6567-4e14-ad41-6a7b6b2c76af",
   "metadata": {},
   "source": [
    "### Retrieve a benchmark from hub"
   ]
  },
  {
   "cell_type": "code",
   "execution_count": 14,
   "id": "33a9a758-7228-427c-90ff-58e021095bdd",
   "metadata": {},
   "outputs": [],
   "source": [
    "benchmark = client.get_benchmark(owner=\"polaristest\", name=\"rdkit-solubility-benchmark-v10\")"
   ]
  },
  {
   "cell_type": "code",
   "execution_count": 15,
   "id": "6a7bed79-9ac4-4340-a72b-ec97bb8db787",
   "metadata": {},
   "outputs": [
    {
     "name": "stderr",
     "output_type": "stream",
     "text": [
      "/Users/lu.zhu/miniconda3/envs/pov3/lib/python3.11/site-packages/pydantic/main.py:309: UserWarning: Pydantic serializer warnings:\n",
      "  Expected `Union[Dataset, str, dict[str, any]]` but got `Dataset` - serialized value may not be as expected\n",
      "  Expected `url` but got `str` - serialized value may not be as expected\n",
      "  return self.__pydantic_serializer__.to_python(\n"
     ]
    },
    {
     "data": {
      "text/html": [
       "<table border=\"1\"><tr><th>name</th><td>rdkit-solubility-benchmark-v10</td></tr><tr><th>description</th><td>Single task regression for solibility</td></tr><tr><th>tags</th><td></td></tr><tr><th>user_attributes</th><td></td></tr><tr><th>owner</th><td><table border=\"1\"><tr><th>organizationId</th><td>org_2VuFFDUgVqc7MI80w5LtujZBxSQ</td></tr><tr><th>userId</th><td>None</td></tr><tr><th>slug</th><td>polaristest</td></tr><tr><th>owner</th><td>org_2VuFFDUgVqc7MI80w5LtujZBxSQ</td></tr></table></td></tr><tr><th>target_cols</th><td><ul><li>SOL</li></ul></td></tr><tr><th>input_cols</th><td><ul><li>smiles</li></ul></td></tr><tr><th>metrics</th><td><ul><li>mean_squared_error</li><li>mean_absolute_error</li></ul></td></tr><tr><th>main_metric</th><td>mean_squared_error</td></tr><tr><th>md5sum</th><td>b84ede1f98143356a564ee03524d02b6</td></tr><tr><th>dataset_name</th><td>rdkit_solublity_10</td></tr><tr><th>n_input_cols</th><td>1</td></tr><tr><th>n_target_cols</th><td>1</td></tr></table>"
      ],
      "text/plain": [
       "{\n",
       "  \"name\": \"rdkit-solubility-benchmark-v10\",\n",
       "  \"description\": \"Single task regression for solibility\",\n",
       "  \"tags\": [],\n",
       "  \"user_attributes\": {},\n",
       "  \"owner\": {\n",
       "    \"organizationId\": \"org_2VuFFDUgVqc7MI80w5LtujZBxSQ\",\n",
       "    \"userId\": null,\n",
       "    \"slug\": \"polaristest\",\n",
       "    \"owner\": \"org_2VuFFDUgVqc7MI80w5LtujZBxSQ\"\n",
       "  },\n",
       "  \"target_cols\": [\n",
       "    \"SOL\"\n",
       "  ],\n",
       "  \"input_cols\": [\n",
       "    \"smiles\"\n",
       "  ],\n",
       "  \"metrics\": [\n",
       "    \"mean_squared_error\",\n",
       "    \"mean_absolute_error\"\n",
       "  ],\n",
       "  \"main_metric\": \"mean_squared_error\",\n",
       "  \"md5sum\": \"b84ede1f98143356a564ee03524d02b6\",\n",
       "  \"dataset_name\": \"rdkit_solublity_10\",\n",
       "  \"n_input_cols\": 1,\n",
       "  \"n_target_cols\": 1\n",
       "}"
      ]
     },
     "execution_count": 15,
     "metadata": {},
     "output_type": "execute_result"
    }
   ],
   "source": [
    "benchmark"
   ]
  },
  {
   "cell_type": "markdown",
   "id": "1a58d325-890d-4c52-b40a-eaf7f4035b27",
   "metadata": {},
   "source": [
    "### Upload benchmark to the Polaris Hub"
   ]
  },
  {
   "cell_type": "code",
   "execution_count": 17,
   "id": "a0002d54-a88a-4415-a55c-0bd768f4ddb7",
   "metadata": {},
   "outputs": [],
   "source": [
    "benchmark_copy = copy(benchmark)\n",
    "benchmark_copy.name = benchmark.name + \"___copy\""
   ]
  },
  {
   "cell_type": "code",
   "execution_count": 18,
   "id": "8d0c04d9-60b1-4ffe-a294-33685acdbf21",
   "metadata": {
    "scrolled": true
   },
   "outputs": [
    {
     "name": "stderr",
     "output_type": "stream",
     "text": [
      "\u001b[32m2023-10-06 15:24:23.872\u001b[0m | \u001b[32m\u001b[1mSUCCESS \u001b[0m | \u001b[36mpolaris.hub.client\u001b[0m:\u001b[36mupload_benchmark\u001b[0m:\u001b[36m450\u001b[0m - \u001b[32m\u001b[1mYour benchmark has been successfully uploaded to the Hub. View it here: https://polaris-hub.vercel.app//benchmarks/eZ9aX1g8LHnXftXjmoYlQ\u001b[0m\n"
     ]
    }
   ],
   "source": [
    "response = client.upload_benchmark(benchmark_copy)"
   ]
  },
  {
   "cell_type": "code",
   "execution_count": null,
   "id": "4196d680-4d67-4de9-b819-88d5bada23a4",
   "metadata": {},
   "outputs": [],
   "source": []
  }
 ],
 "metadata": {
  "kernelspec": {
   "display_name": "Python 3 (ipykernel)",
   "language": "python",
   "name": "python3"
  },
  "language_info": {
   "codemirror_mode": {
    "name": "ipython",
    "version": 3
   },
   "file_extension": ".py",
   "mimetype": "text/x-python",
   "name": "python",
   "nbconvert_exporter": "python",
   "pygments_lexer": "ipython3",
   "version": "3.11.5"
  }
 },
 "nbformat": 4,
 "nbformat_minor": 5
}
