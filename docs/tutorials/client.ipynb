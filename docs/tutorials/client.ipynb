{
 "cells": [
  {
   "cell_type": "code",
   "execution_count": 24,
   "id": "0bfd80d4-18e4-497f-bc03-6437b89bd711",
   "metadata": {},
   "outputs": [],
   "source": [
    "import polaris\n",
    "from polaris.hub.client import PolarisHubClient"
   ]
  },
  {
   "cell_type": "code",
   "execution_count": 63,
   "id": "ae7be20e-f460-40b6-83dd-1d2740ae1f97",
   "metadata": {},
   "outputs": [],
   "source": [
    "client = PolarisHubClient()"
   ]
  },
  {
   "cell_type": "code",
   "execution_count": 66,
   "id": "b00dee54-b86e-4230-804b-56aad6465e14",
   "metadata": {},
   "outputs": [
    {
     "name": "stderr",
     "output_type": "stream",
     "text": [
      "\u001b[32m2023-09-26 14:15:47.384\u001b[0m | \u001b[1mINFO    \u001b[0m | \u001b[36mpolaris.hub.client\u001b[0m:\u001b[36mlogin\u001b[0m:\u001b[36m231\u001b[0m - \u001b[1mYou are already logged in to the Polaris Hub as luzhu (lu@valencediscovery.com). Set `overwrite=True` to force re-authentication.\u001b[0m\n"
     ]
    }
   ],
   "source": [
    "client.login()"
   ]
  },
  {
   "cell_type": "code",
   "execution_count": 67,
   "id": "8ee23b6e-7529-4c59-a8f0-4fc5cfe34a6f",
   "metadata": {},
   "outputs": [
    {
     "name": "stdout",
     "output_type": "stream",
     "text": [
      "NTVKMGFHNDITNJKYOS0ZZWQXLWJLMDQTNMYWY2E0MTM3YWJM\n"
     ]
    }
   ],
   "source": [
    "import fsspec, json\n",
    "with fsspec.open(client._auth_token_cache_path, \"r\") as fd:\n",
    "    print(json.load(fd)[\"access_token\"])"
   ]
  },
  {
   "cell_type": "code",
   "execution_count": 59,
   "id": "acb87c3f-9625-48e1-aefd-ade3615d55a1",
   "metadata": {},
   "outputs": [
    {
     "data": {
      "text/plain": [
       "['jstl/Mixed_Case_Dataset_2023', 'test-ai/org-dataset', 'jstl/my-dataset']"
      ]
     },
     "execution_count": 59,
     "metadata": {},
     "output_type": "execute_result"
    }
   ],
   "source": [
    "client.list_datasets()"
   ]
  },
  {
   "cell_type": "code",
   "execution_count": 60,
   "id": "c3286c00-14f0-4164-81dd-39d84a08e10c",
   "metadata": {},
   "outputs": [
    {
     "data": {
      "text/plain": [
       "['test-ai/my-benchmark2']"
      ]
     },
     "execution_count": 60,
     "metadata": {},
     "output_type": "execute_result"
    }
   ],
   "source": [
    "client.list_benchmarks()"
   ]
  },
  {
   "cell_type": "code",
   "execution_count": null,
   "id": "525229d1-777f-462b-9527-c74fd1df1103",
   "metadata": {},
   "outputs": [],
   "source": []
  },
  {
   "cell_type": "code",
   "execution_count": 30,
   "id": "7d318fbb-ee2b-4396-a0be-6f13c0c5e8a3",
   "metadata": {},
   "outputs": [],
   "source": [
    "## Upload dataset"
   ]
  },
  {
   "cell_type": "code",
   "execution_count": 38,
   "id": "e74134e5-4244-424a-8b56-3ec7d58fc827",
   "metadata": {},
   "outputs": [
    {
     "name": "stdout",
     "output_type": "stream",
     "text": [
      "Copying gs://polaris-private/Datasets/ADME/fang2023_public_set/dataset.json...\n",
      "/ [1 files][  5.8 KiB/  5.8 KiB]                                                \n",
      "Operation completed over 1 objects/5.8 KiB.                                      \n"
     ]
    }
   ],
   "source": [
    "!gsutil cp \"gs://polaris-private/Datasets/ADME/fang2023_public_set/dataset.json\" \"jsons/datasets/fang2023_public_set/dataset.json\""
   ]
  },
  {
   "cell_type": "code",
   "execution_count": null,
   "id": "01ec4999-6b88-478a-9cf1-aa87d69933da",
   "metadata": {},
   "outputs": [],
   "source": []
  }
 ],
 "metadata": {
  "kernelspec": {
   "display_name": "Python 3 (ipykernel)",
   "language": "python",
   "name": "python3"
  },
  "language_info": {
   "codemirror_mode": {
    "name": "ipython",
    "version": 3
   },
   "file_extension": ".py",
   "mimetype": "text/x-python",
   "name": "python",
   "nbconvert_exporter": "python",
   "pygments_lexer": "ipython3",
   "version": "3.11.5"
  }
 },
 "nbformat": 4,
 "nbformat_minor": 5
}
