{
 "cells": [
  {
   "cell_type": "markdown",
   "id": "40f99374-b47e-4f84-bdb9-148a11f9c07d",
   "metadata": {},
   "source": [
    "# The Polaris Library Basics\n",
    "\n",
    "The `Polaris library` is specifically crafted to standardize and streamline the process of constructing datasets, training ML models, and evaluating novel ML techniques within the realms of biology, chemistry, and drug discovery. \\\n",
    "`Polaris` is designed to adeptly manage diverse types of dataset, including small molecules and cell painting images, among others.\\\n",
    "This notebook demonstrates the basic usage of Polaris in effectively managing datasets and benchmarks with **small molecules**.\n",
    "\n",
    "\n",
    "**Overview**:\n",
    "- [How to retrieve Dataset?](#dataset)\n",
    "- [How to retrieve benchmark?](#benchmark)\n",
    "- [How to submit your evaluation result?](#evaluation)\n"
   ]
  },
  {
   "cell_type": "code",
   "execution_count": 24,
   "id": "9b465ea4-7c71-443b-9908-3f9e567ee4c4",
   "metadata": {},
   "outputs": [
    {
     "name": "stdout",
     "output_type": "stream",
     "text": [
      "The autoreload extension is already loaded. To reload it, use:\n",
      "  %reload_ext autoreload\n"
     ]
    }
   ],
   "source": [
    "%load_ext autoreload\n",
    "%autoreload 2\n",
    "import tempfile\n",
    "import datamol as dm\n",
    "import pandas as pd\n",
    "import polaris as po\n",
    "from polaris import curation\n",
    "from polaris.hub.client import PolarisHubClient"
   ]
  },
  {
   "cell_type": "markdown",
   "id": "168c7f21-f9ec-43e2-b123-2bdcba2e8a71",
   "metadata": {},
   "source": [
    "### Login with your Polaris hub account"
   ]
  },
  {
   "cell_type": "code",
   "execution_count": 25,
   "id": "de8bf4bf-4dbd-42eb-8f74-bf8aa0339469",
   "metadata": {},
   "outputs": [
    {
     "name": "stderr",
     "output_type": "stream",
     "text": [
      "\u001b[32m2023-10-12 16:26:36.988\u001b[0m | \u001b[1mINFO    \u001b[0m | \u001b[36mpolaris.hub.client\u001b[0m:\u001b[36mlogin\u001b[0m:\u001b[36m234\u001b[0m - \u001b[1mYou are already logged in to the Polaris Hub as luzhu (lu@valencediscovery.com). Set `overwrite=True` to force re-authentication.\u001b[0m\n"
     ]
    }
   ],
   "source": [
    "client = PolarisHubClient()\n",
    "client.login()"
   ]
  },
  {
   "cell_type": "markdown",
   "id": "5edee39f-ce29-4ae6-91ce-453d9190541b",
   "metadata": {},
   "source": [
    "### Retrieve Dataset from Polaris Hub\n",
    "A dataset can be retrieved by `<owner name>/<dataset name>`."
   ]
  },
  {
   "cell_type": "code",
   "execution_count": 31,
   "id": "4e004589-6c48-4232-b353-b1700536dde6",
   "metadata": {},
   "outputs": [],
   "source": [
    "dataset = po.load_dataset(\"polaristest/tutorial_rdkit_solublity\")"
   ]
  },
  {
   "cell_type": "markdown",
   "id": "db5c7546-dba9-4e2e-b655-e157b06e7255",
   "metadata": {},
   "source": [
    "### Retrieve benchmark from `PolarisHub`"
   ]
  },
  {
   "cell_type": "code",
   "execution_count": 38,
   "id": "e707e4e7-44cb-4841-a554-f62bcba2f6eb",
   "metadata": {},
   "outputs": [],
   "source": [
    "benchmark = po.load_benchmark(\"polaristest/tutorial_benchmark_rdkit_solublity\")"
   ]
  },
  {
   "cell_type": "code",
   "execution_count": 39,
   "id": "c4a194ea-4aaf-49bd-9385-f2d6d32cb578",
   "metadata": {},
   "outputs": [
    {
     "name": "stderr",
     "output_type": "stream",
     "text": [
      "/Users/lu.zhu/miniconda3/envs/pov3/lib/python3.11/site-packages/pydantic/main.py:309: UserWarning: Pydantic serializer warnings:\n",
      "  Expected `Union[Dataset, str, dict[str, any]]` but got `Dataset` - serialized value may not be as expected\n",
      "  Expected `url` but got `str` - serialized value may not be as expected\n",
      "  return self.__pydantic_serializer__.to_python(\n"
     ]
    },
    {
     "data": {
      "text/html": [
       "<table border=\"1\"><tr><th>name</th><td>tutorial_benchmark_rdkit_solublity</td></tr><tr><th>description</th><td>Single task regression for solibility</td></tr><tr><th>tags</th><td></td></tr><tr><th>user_attributes</th><td></td></tr><tr><th>owner</th><td><table border=\"1\"><tr><th>organizationId</th><td>org_2VuFFDUgVqc7MI80w5LtujZBxSQ</td></tr><tr><th>userId</th><td>None</td></tr><tr><th>slug</th><td>polaristest</td></tr><tr><th>owner</th><td>org_2VuFFDUgVqc7MI80w5LtujZBxSQ</td></tr></table></td></tr><tr><th>target_cols</th><td><ul><li>SOL</li></ul></td></tr><tr><th>input_cols</th><td><ul><li>smiles</li></ul></td></tr><tr><th>metrics</th><td><ul><li>mean_squared_error</li><li>mean_absolute_error</li></ul></td></tr><tr><th>main_metric</th><td>mean_squared_error</td></tr><tr><th>md5sum</th><td>b84ede1f98143356a564ee03524d02b6</td></tr><tr><th>dataset_name</th><td>tutorial_rdkit_solublity</td></tr><tr><th>n_input_cols</th><td>1</td></tr><tr><th>n_target_cols</th><td>1</td></tr></table>"
      ],
      "text/plain": [
       "{\n",
       "  \"name\": \"tutorial_benchmark_rdkit_solublity\",\n",
       "  \"description\": \"Single task regression for solibility\",\n",
       "  \"tags\": [],\n",
       "  \"user_attributes\": {},\n",
       "  \"owner\": {\n",
       "    \"organizationId\": \"org_2VuFFDUgVqc7MI80w5LtujZBxSQ\",\n",
       "    \"userId\": null,\n",
       "    \"slug\": \"polaristest\",\n",
       "    \"owner\": \"org_2VuFFDUgVqc7MI80w5LtujZBxSQ\"\n",
       "  },\n",
       "  \"target_cols\": [\n",
       "    \"SOL\"\n",
       "  ],\n",
       "  \"input_cols\": [\n",
       "    \"smiles\"\n",
       "  ],\n",
       "  \"metrics\": [\n",
       "    \"mean_squared_error\",\n",
       "    \"mean_absolute_error\"\n",
       "  ],\n",
       "  \"main_metric\": \"mean_squared_error\",\n",
       "  \"md5sum\": \"b84ede1f98143356a564ee03524d02b6\",\n",
       "  \"dataset_name\": \"tutorial_rdkit_solublity\",\n",
       "  \"n_input_cols\": 1,\n",
       "  \"n_target_cols\": 1\n",
       "}"
      ]
     },
     "execution_count": 39,
     "metadata": {},
     "output_type": "execute_result"
    }
   ],
   "source": [
    "benchmark"
   ]
  },
  {
   "cell_type": "markdown",
   "id": "1ce8e0e5-88c8-4d3b-9292-e75c97315833",
   "metadata": {},
   "source": [
    "#### Get train and test splits"
   ]
  },
  {
   "cell_type": "code",
   "execution_count": 40,
   "id": "b55195cd-84da-4cd9-951b-c148265b303c",
   "metadata": {},
   "outputs": [],
   "source": [
    "train, test = benchmark.get_train_test_split()"
   ]
  },
  {
   "cell_type": "code",
   "execution_count": 44,
   "id": "08ce24c7-992a-40a7-b8ef-c862fab99e6e",
   "metadata": {},
   "outputs": [
    {
     "data": {
      "text/plain": [
       "(988,)"
      ]
     },
     "execution_count": 44,
     "metadata": {},
     "output_type": "execute_result"
    }
   ],
   "source": [
    "train.targets.shape"
   ]
  },
  {
   "cell_type": "markdown",
   "id": "d5fa35c5-e2d0-4d75-a2cb-75b4749d91ef",
   "metadata": {},
   "source": [
    "**Users are not allow having access to the labels of test set**"
   ]
  },
  {
   "cell_type": "code",
   "execution_count": 47,
   "id": "8c33b7d4-fa82-4994-a7ab-5d0821ad5fd4",
   "metadata": {
    "scrolled": true
   },
   "outputs": [],
   "source": [
    "# test.targets"
   ]
  },
  {
   "cell_type": "markdown",
   "id": "955ad9db-3468-4f34-b303-18e6d642be56",
   "metadata": {},
   "source": [
    "### Now we train a predictive model"
   ]
  },
  {
   "cell_type": "code",
   "execution_count": 48,
   "id": "748dd278-0fd0-4c5b-ac6a-8d974143c3b9",
   "metadata": {},
   "outputs": [
    {
     "data": {
      "text/html": [
       "<style>#sk-container-id-1 {color: black;}#sk-container-id-1 pre{padding: 0;}#sk-container-id-1 div.sk-toggleable {background-color: white;}#sk-container-id-1 label.sk-toggleable__label {cursor: pointer;display: block;width: 100%;margin-bottom: 0;padding: 0.3em;box-sizing: border-box;text-align: center;}#sk-container-id-1 label.sk-toggleable__label-arrow:before {content: \"▸\";float: left;margin-right: 0.25em;color: #696969;}#sk-container-id-1 label.sk-toggleable__label-arrow:hover:before {color: black;}#sk-container-id-1 div.sk-estimator:hover label.sk-toggleable__label-arrow:before {color: black;}#sk-container-id-1 div.sk-toggleable__content {max-height: 0;max-width: 0;overflow: hidden;text-align: left;background-color: #f0f8ff;}#sk-container-id-1 div.sk-toggleable__content pre {margin: 0.2em;color: black;border-radius: 0.25em;background-color: #f0f8ff;}#sk-container-id-1 input.sk-toggleable__control:checked~div.sk-toggleable__content {max-height: 200px;max-width: 100%;overflow: auto;}#sk-container-id-1 input.sk-toggleable__control:checked~label.sk-toggleable__label-arrow:before {content: \"▾\";}#sk-container-id-1 div.sk-estimator input.sk-toggleable__control:checked~label.sk-toggleable__label {background-color: #d4ebff;}#sk-container-id-1 div.sk-label input.sk-toggleable__control:checked~label.sk-toggleable__label {background-color: #d4ebff;}#sk-container-id-1 input.sk-hidden--visually {border: 0;clip: rect(1px 1px 1px 1px);clip: rect(1px, 1px, 1px, 1px);height: 1px;margin: -1px;overflow: hidden;padding: 0;position: absolute;width: 1px;}#sk-container-id-1 div.sk-estimator {font-family: monospace;background-color: #f0f8ff;border: 1px dotted black;border-radius: 0.25em;box-sizing: border-box;margin-bottom: 0.5em;}#sk-container-id-1 div.sk-estimator:hover {background-color: #d4ebff;}#sk-container-id-1 div.sk-parallel-item::after {content: \"\";width: 100%;border-bottom: 1px solid gray;flex-grow: 1;}#sk-container-id-1 div.sk-label:hover label.sk-toggleable__label {background-color: #d4ebff;}#sk-container-id-1 div.sk-serial::before {content: \"\";position: absolute;border-left: 1px solid gray;box-sizing: border-box;top: 0;bottom: 0;left: 50%;z-index: 0;}#sk-container-id-1 div.sk-serial {display: flex;flex-direction: column;align-items: center;background-color: white;padding-right: 0.2em;padding-left: 0.2em;position: relative;}#sk-container-id-1 div.sk-item {position: relative;z-index: 1;}#sk-container-id-1 div.sk-parallel {display: flex;align-items: stretch;justify-content: center;background-color: white;position: relative;}#sk-container-id-1 div.sk-item::before, #sk-container-id-1 div.sk-parallel-item::before {content: \"\";position: absolute;border-left: 1px solid gray;box-sizing: border-box;top: 0;bottom: 0;left: 50%;z-index: -1;}#sk-container-id-1 div.sk-parallel-item {display: flex;flex-direction: column;z-index: 1;position: relative;background-color: white;}#sk-container-id-1 div.sk-parallel-item:first-child::after {align-self: flex-end;width: 50%;}#sk-container-id-1 div.sk-parallel-item:last-child::after {align-self: flex-start;width: 50%;}#sk-container-id-1 div.sk-parallel-item:only-child::after {width: 0;}#sk-container-id-1 div.sk-dashed-wrapped {border: 1px dashed gray;margin: 0 0.4em 0.5em 0.4em;box-sizing: border-box;padding-bottom: 0.4em;background-color: white;}#sk-container-id-1 div.sk-label label {font-family: monospace;font-weight: bold;display: inline-block;line-height: 1.2em;}#sk-container-id-1 div.sk-label-container {text-align: center;}#sk-container-id-1 div.sk-container {/* jupyter's `normalize.less` sets `[hidden] { display: none; }` but bootstrap.min.css set `[hidden] { display: none !important; }` so we also need the `!important` here to be able to override the default hidden behavior on the sphinx rendered scikit-learn.org. See: https://github.com/scikit-learn/scikit-learn/issues/21755 */display: inline-block !important;position: relative;}#sk-container-id-1 div.sk-text-repr-fallback {display: none;}</style><div id=\"sk-container-id-1\" class=\"sk-top-container\"><div class=\"sk-text-repr-fallback\"><pre>RandomForestRegressor(max_depth=2, random_state=0)</pre><b>In a Jupyter environment, please rerun this cell to show the HTML representation or trust the notebook. <br />On GitHub, the HTML representation is unable to render, please try loading this page with nbviewer.org.</b></div><div class=\"sk-container\" hidden><div class=\"sk-item\"><div class=\"sk-estimator sk-toggleable\"><input class=\"sk-toggleable__control sk-hidden--visually\" id=\"sk-estimator-id-1\" type=\"checkbox\" checked><label for=\"sk-estimator-id-1\" class=\"sk-toggleable__label sk-toggleable__label-arrow\">RandomForestRegressor</label><div class=\"sk-toggleable__content\"><pre>RandomForestRegressor(max_depth=2, random_state=0)</pre></div></div></div></div></div>"
      ],
      "text/plain": [
       "RandomForestRegressor(max_depth=2, random_state=0)"
      ]
     },
     "execution_count": 48,
     "metadata": {},
     "output_type": "execute_result"
    }
   ],
   "source": [
    "from sklearn.ensemble import RandomForestRegressor\n",
    "\n",
    "# Convert smiles with any molecular featurizer\n",
    "train_fps = [dm.to_fp(smi) for smi in train.inputs]\n",
    "\n",
    "# Define a model and train\n",
    "model = RandomForestRegressor(max_depth=2, random_state=0)\n",
    "model.fit(train_fps, train.targets)"
   ]
  },
  {
   "cell_type": "markdown",
   "id": "e0b6aff3-21e9-45de-8cef-fc12a481df36",
   "metadata": {},
   "source": [
    "**Make predictions on the testset**"
   ]
  },
  {
   "cell_type": "code",
   "execution_count": 49,
   "id": "6633ec79-a6ff-4ce0-bc7d-cdb9e1042462",
   "metadata": {},
   "outputs": [],
   "source": [
    "test_fps = [dm.to_fp(smi) for smi in test.inputs]\n",
    "predictions = model.predict(test_fps)"
   ]
  },
  {
   "cell_type": "markdown",
   "id": "c33dab49-67a0-4431-8034-de86f7ee36b6",
   "metadata": {},
   "source": [
    "**Compute metrics provided by the benchmark**"
   ]
  },
  {
   "cell_type": "code",
   "execution_count": 50,
   "id": "79c072cf-683e-4257-b31e-59fdbcf5e979",
   "metadata": {},
   "outputs": [
    {
     "data": {
      "text/plain": [
       "{<Metric.mean_squared_error: MetricInfo(fn=<function mean_squared_error at 0x15a402f20>, is_multitask=False)>: 2.687513982094899,\n",
       " <Metric.mean_absolute_error: MetricInfo(fn=<function mean_absolute_error at 0x15a402b60>, is_multitask=False)>: 1.2735690161081497}"
      ]
     },
     "execution_count": 50,
     "metadata": {},
     "output_type": "execute_result"
    }
   ],
   "source": [
    "results = benchmark.evaluate(predictions)\n",
    "results.results"
   ]
  },
  {
   "cell_type": "markdown",
   "id": "90114c20-4c01-432b-9f4d-b31863881cc6",
   "metadata": {},
   "source": [
    "**Provide the information about your ML method**"
   ]
  },
  {
   "cell_type": "code",
   "execution_count": 54,
   "id": "a601f415-c563-4efe-94c3-0d44f3fd6576",
   "metadata": {},
   "outputs": [],
   "source": [
    "# TODO: to be updated to the new  Result structure\n",
    "results.name = f\"tutorial_result\"\n",
    "results.github_url = \"https://github.com/polaris-hub/polaris-hub\"\n",
    "results.paper_url = \"https://polaris-hub.vercel.app\"\n",
    "results.description = \"This is a test result\""
   ]
  },
  {
   "cell_type": "markdown",
   "id": "f8ca4a88-4363-4733-ac38-3356c4e8fc20",
   "metadata": {},
   "source": [
    "#### Upload results to the hub"
   ]
  },
  {
   "cell_type": "code",
   "execution_count": 56,
   "id": "60cbf4b9-8514-480d-beda-8a50e5f7c9a6",
   "metadata": {
    "scrolled": true
   },
   "outputs": [
    {
     "name": "stderr",
     "output_type": "stream",
     "text": [
      "/Users/lu.zhu/miniconda3/envs/pov3/lib/python3.11/site-packages/pydantic/main.py:309: UserWarning: Pydantic serializer warnings:\n",
      "  Expected `url` but got `str` - serialized value may not be as expected\n",
      "  Expected `url` but got `str` - serialized value may not be as expected\n",
      "  return self.__pydantic_serializer__.to_python(\n",
      "\u001b[32m2023-10-12 16:34:58.346\u001b[0m | \u001b[32m\u001b[1mSUCCESS \u001b[0m | \u001b[36mpolaris.hub.client\u001b[0m:\u001b[36mupload_results\u001b[0m:\u001b[36m370\u001b[0m - \u001b[32m\u001b[1mYour result has been successfully uploaded to the Hub. View it here: https://polarishub.io//results/6DQW1HvMGj2nwGMyuF0aV\u001b[0m\n"
     ]
    }
   ],
   "source": [
    "response = client.upload_results(results)"
   ]
  }
 ],
 "metadata": {
  "kernelspec": {
   "display_name": "Python 3 (ipykernel)",
   "language": "python",
   "name": "python3"
  },
  "language_info": {
   "codemirror_mode": {
    "name": "ipython",
    "version": 3
   },
   "file_extension": ".py",
   "mimetype": "text/x-python",
   "name": "python",
   "nbconvert_exporter": "python",
   "pygments_lexer": "ipython3",
   "version": "3.11.5"
  }
 },
 "nbformat": 4,
 "nbformat_minor": 5
}
