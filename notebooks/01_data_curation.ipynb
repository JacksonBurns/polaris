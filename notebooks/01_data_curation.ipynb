{
 "cells": [
  {
   "cell_type": "markdown",
   "id": "2b798393-db49-47fe-ab32-b2bdbc4fccda",
   "metadata": {},
   "source": [
    "## This script demonstrates how to use `polaris.curation` module to perform the data curation\n",
    "- DMPK datasets published in in Fang et al. 2023 (DOI:10.1021/acs.jcim.3c00160). \n",
    "\n",
    "- Curate the chemistry information on the molecules.\n",
    "  - Clean the molecules by perform molecule fix and sanitization,  standardization molecules, salts/solvents removals.\n",
    "  - Remove stereochemistry information if `ignore_stereo` is set to `True`. This is recommended if the downstream molecule representation is not able to differentiate the stereoisomers. \n",
    "\n",
    "- Curate the measured endpoint values in the datasets\n",
    "  - Merge measurements of repeated molecules in the dataset. The identification of the repeated molecules is defined by `dm.hash_mol` with or without stereochemistry information.\n",
    "  - Classify the measured values based on provided threshold values for classification tasks.\n",
    "  - Detect activity cliff between the stereoisomers. When `mask_stereo_cliff` is set to true, the targeted activity values of those molecules pairs will be set to `None`. This is recommended if the downstream molecule representation is not able to differentiate the stereoisomers.\n"
   ]
  },
  {
   "cell_type": "code",
   "execution_count": 29,
   "id": "f148fb0e-4982-4b68-b70c-53f81c5d9a85",
   "metadata": {},
   "outputs": [
    {
     "name": "stdout",
     "output_type": "stream",
     "text": [
      "The autoreload extension is already loaded. To reload it, use:\n",
      "  %reload_ext autoreload\n"
     ]
    }
   ],
   "source": [
    "%load_ext autoreload\n",
    "%autoreload 2\n",
    "import datamol as dm \n",
    "import pandas as pd\n",
    "from polaris import curation"
   ]
  },
  {
   "cell_type": "markdown",
   "id": "9b81d4a6-488d-41a7-ab40-eab8fc556733",
   "metadata": {},
   "source": [
    "### Data curation for DMPK datasets"
   ]
  },
  {
   "cell_type": "code",
   "execution_count": 30,
   "id": "c7e591c4-0a7d-44fa-9663-a9997cf16624",
   "metadata": {},
   "outputs": [],
   "source": [
    "INDIR = \"gs://polaris-private/dataset/DMPK/Fang2023\"\n",
    "OUTDIR = \"gs://polaris-private/dataset/DMPK\""
   ]
  },
  {
   "cell_type": "code",
   "execution_count": 31,
   "id": "87aec82c-8401-48aa-85fc-e0f136d88e84",
   "metadata": {},
   "outputs": [],
   "source": [
    "# Define data column names\n",
    "endpoints = {\n",
    "             \"HLM\": 'LOG HLM_CLint (mL/min/kg)', \n",
    "             \"RLM\": 'LOG RLM_CLint (mL/min/kg)', \n",
    "             \"hPPB\": 'LOG PLASMA PROTEIN BINDING (HUMAN) (% unbound)', \n",
    "             \"rPPB\": 'LOG PLASMA PROTEIN BINDING (RAT) (% unbound)', \n",
    "             \"MDR1_ER\": 'LOG MDR1-MDCK ER (B-A/A-B)', \n",
    "             \"Sol\": 'LOG SOLUBILITY PH 6.8 (ug/mL)'}\n",
    "\n",
    "# Define thresholds for class conversions \n",
    "class_thresholds = {\n",
    "                 \"hPPB\":  {\"thresholds\": [0.3, 1], \"label_order\": \"descending\" }, \n",
    "                 \"rPPB\": {\"thresholds\": [0.3, 1], \"label_order\": \"descending\"  }, \n",
    "                 \"MDR1_ER\": {\"thresholds\": [ 1, 2] }, \n",
    "                 \"Sol\": {\"thresholds\": [ 0, 1,]}, \n",
    "}"
   ]
  },
  {
   "cell_type": "markdown",
   "id": "5ade700c-35be-431f-a057-2c7d92793d84",
   "metadata": {},
   "source": [
    "### Perform curation which takes stereochemistry information into account. \n",
    "\n",
    "It's important to detect and analyze the activity cliff between the stereoisomers."
   ]
  },
  {
   "cell_type": "code",
   "execution_count": 32,
   "id": "384fa007-8714-4e91-afc4-8088f48ef27b",
   "metadata": {},
   "outputs": [],
   "source": [
    "data = dm.read_csv(\"ADME_public_set_3521.csv\")"
   ]
  },
  {
   "cell_type": "code",
   "execution_count": 33,
   "id": "8feab0b6-4120-4da4-bfc6-8c2fe1028c33",
   "metadata": {},
   "outputs": [
    {
     "data": {
      "text/html": [
       "<div>\n",
       "<style scoped>\n",
       "    .dataframe tbody tr th:only-of-type {\n",
       "        vertical-align: middle;\n",
       "    }\n",
       "\n",
       "    .dataframe tbody tr th {\n",
       "        vertical-align: top;\n",
       "    }\n",
       "\n",
       "    .dataframe thead th {\n",
       "        text-align: right;\n",
       "    }\n",
       "</style>\n",
       "<table border=\"1\" class=\"dataframe\">\n",
       "  <thead>\n",
       "    <tr style=\"text-align: right;\">\n",
       "      <th></th>\n",
       "      <th>LOG HLM_CLint (mL/min/kg)</th>\n",
       "      <th>LOG MDR1-MDCK ER (B-A/A-B)</th>\n",
       "      <th>LOG SOLUBILITY PH 6.8 (ug/mL)</th>\n",
       "      <th>LOG PLASMA PROTEIN BINDING (HUMAN) (% unbound)</th>\n",
       "      <th>LOG PLASMA PROTEIN BINDING (RAT) (% unbound)</th>\n",
       "      <th>LOG RLM_CLint (mL/min/kg)</th>\n",
       "    </tr>\n",
       "  </thead>\n",
       "  <tbody>\n",
       "    <tr>\n",
       "      <th>count</th>\n",
       "      <td>3087.000000</td>\n",
       "      <td>2642.000000</td>\n",
       "      <td>2173.000000</td>\n",
       "      <td>194.000000</td>\n",
       "      <td>168.000000</td>\n",
       "      <td>3054.000000</td>\n",
       "    </tr>\n",
       "    <tr>\n",
       "      <th>mean</th>\n",
       "      <td>1.320019</td>\n",
       "      <td>0.397829</td>\n",
       "      <td>1.259943</td>\n",
       "      <td>0.765722</td>\n",
       "      <td>0.764177</td>\n",
       "      <td>2.256207</td>\n",
       "    </tr>\n",
       "    <tr>\n",
       "      <th>std</th>\n",
       "      <td>0.623952</td>\n",
       "      <td>0.688465</td>\n",
       "      <td>0.683416</td>\n",
       "      <td>0.847902</td>\n",
       "      <td>0.798988</td>\n",
       "      <td>0.750422</td>\n",
       "    </tr>\n",
       "    <tr>\n",
       "      <th>min</th>\n",
       "      <td>0.675687</td>\n",
       "      <td>-1.162425</td>\n",
       "      <td>-1.000000</td>\n",
       "      <td>-1.593460</td>\n",
       "      <td>-1.638272</td>\n",
       "      <td>1.027920</td>\n",
       "    </tr>\n",
       "    <tr>\n",
       "      <th>25%</th>\n",
       "      <td>0.675687</td>\n",
       "      <td>-0.162356</td>\n",
       "      <td>1.153510</td>\n",
       "      <td>0.168067</td>\n",
       "      <td>0.226564</td>\n",
       "      <td>1.688291</td>\n",
       "    </tr>\n",
       "    <tr>\n",
       "      <th>50%</th>\n",
       "      <td>1.205313</td>\n",
       "      <td>0.153291</td>\n",
       "      <td>1.542825</td>\n",
       "      <td>0.867555</td>\n",
       "      <td>0.776427</td>\n",
       "      <td>2.311068</td>\n",
       "    </tr>\n",
       "    <tr>\n",
       "      <th>75%</th>\n",
       "      <td>1.803115</td>\n",
       "      <td>0.905013</td>\n",
       "      <td>1.687351</td>\n",
       "      <td>1.501953</td>\n",
       "      <td>1.375962</td>\n",
       "      <td>2.835274</td>\n",
       "    </tr>\n",
       "    <tr>\n",
       "      <th>max</th>\n",
       "      <td>3.372714</td>\n",
       "      <td>2.725057</td>\n",
       "      <td>2.179264</td>\n",
       "      <td>2.000000</td>\n",
       "      <td>2.000000</td>\n",
       "      <td>3.969622</td>\n",
       "    </tr>\n",
       "  </tbody>\n",
       "</table>\n",
       "</div>"
      ],
      "text/plain": [
       "       LOG HLM_CLint (mL/min/kg)  LOG MDR1-MDCK ER (B-A/A-B)  \\\n",
       "count                3087.000000                 2642.000000   \n",
       "mean                    1.320019                    0.397829   \n",
       "std                     0.623952                    0.688465   \n",
       "min                     0.675687                   -1.162425   \n",
       "25%                     0.675687                   -0.162356   \n",
       "50%                     1.205313                    0.153291   \n",
       "75%                     1.803115                    0.905013   \n",
       "max                     3.372714                    2.725057   \n",
       "\n",
       "       LOG SOLUBILITY PH 6.8 (ug/mL)  \\\n",
       "count                    2173.000000   \n",
       "mean                        1.259943   \n",
       "std                         0.683416   \n",
       "min                        -1.000000   \n",
       "25%                         1.153510   \n",
       "50%                         1.542825   \n",
       "75%                         1.687351   \n",
       "max                         2.179264   \n",
       "\n",
       "       LOG PLASMA PROTEIN BINDING (HUMAN) (% unbound)  \\\n",
       "count                                      194.000000   \n",
       "mean                                         0.765722   \n",
       "std                                          0.847902   \n",
       "min                                         -1.593460   \n",
       "25%                                          0.168067   \n",
       "50%                                          0.867555   \n",
       "75%                                          1.501953   \n",
       "max                                          2.000000   \n",
       "\n",
       "       LOG PLASMA PROTEIN BINDING (RAT) (% unbound)  LOG RLM_CLint (mL/min/kg)  \n",
       "count                                    168.000000                3054.000000  \n",
       "mean                                       0.764177                   2.256207  \n",
       "std                                        0.798988                   0.750422  \n",
       "min                                       -1.638272                   1.027920  \n",
       "25%                                        0.226564                   1.688291  \n",
       "50%                                        0.776427                   2.311068  \n",
       "75%                                        1.375962                   2.835274  \n",
       "max                                        2.000000                   3.969622  "
      ]
     },
     "execution_count": 33,
     "metadata": {},
     "output_type": "execute_result"
    }
   ],
   "source": [
    "data.describe()"
   ]
  },
  {
   "cell_type": "code",
   "execution_count": 34,
   "id": "f738ffa6-ce1f-419d-9bf4-1d4c0932bd1b",
   "metadata": {},
   "outputs": [],
   "source": [
    "data_cols =  list(endpoints.values())\n",
    "mol_col = \"SMILES\""
   ]
  },
  {
   "cell_type": "code",
   "execution_count": 35,
   "id": "a986e469-ead6-43eb-a5ef-620cc16a1091",
   "metadata": {},
   "outputs": [],
   "source": [
    "# curate \n",
    "curator_with_stereo = curation.MolecularCurator(data=data, data_cols=data_cols, mol_col=mol_col,\n",
    "                                                mask_stereo_undefined_mols=True, \n",
    "                                                class_thresholds={endpoints[ep]:class_thresholds[ep] for ep in class_thresholds.keys()})\n",
    "df_full = curator_with_stereo.run()"
   ]
  },
  {
   "cell_type": "code",
   "execution_count": 8,
   "id": "46576e91-4523-4d1c-a9b4-11bfa562fa02",
   "metadata": {},
   "outputs": [
    {
     "name": "stderr",
     "output_type": "stream",
     "text": [
      "/Users/lu.zhu/miniconda3/envs/polaris/lib/python3.11/site-packages/google/auth/_default.py:78: UserWarning: Your application has authenticated using end user credentials from Google Cloud SDK without a quota project. You might receive a \"quota exceeded\" or \"API not enabled\" error. See the following page for troubleshooting: https://cloud.google.com/docs/authentication/adc-troubleshooting/user-creds. \n",
      "  warnings.warn(_CLOUD_SDK_CREDENTIALS_WARNING)\n"
     ]
    }
   ],
   "source": [
    "# df_full_v0  = dm.read_csv(f\"{OUTDIR}/ADME_public_set_3521_curated.csv\")\n",
    "df_full.to_csv(f\"{OUTDIR}/ADME_public_set_3521_curated_v1.csv\", index=False)"
   ]
  },
  {
   "cell_type": "code",
   "execution_count": 9,
   "id": "c790726c-fdc8-42b1-b4c6-f536a4466e56",
   "metadata": {},
   "outputs": [
    {
     "data": {
      "text/plain": [
       "'gs://polaris-private/dataset/DMPK/ADME_public_set_3521_curated.csv'"
      ]
     },
     "execution_count": 9,
     "metadata": {},
     "output_type": "execute_result"
    }
   ],
   "source": [
    "f\"{OUTDIR}/ADME_public_set_3521_curated.csv\""
   ]
  },
  {
   "cell_type": "code",
   "execution_count": 10,
   "id": "a47e067b-016f-476b-9890-a73fb0089f9d",
   "metadata": {},
   "outputs": [],
   "source": [
    "### extend the dataset"
   ]
  },
  {
   "cell_type": "code",
   "execution_count": 11,
   "id": "d03e63f8-d265-44d3-800a-ff90351e8fc4",
   "metadata": {},
   "outputs": [],
   "source": [
    "_endpoint = [\"hPPB\", \"rPPB\"]"
   ]
  },
  {
   "cell_type": "code",
   "execution_count": 12,
   "id": "58c41a6d-84b7-4908-991c-ccbe68c82a2f",
   "metadata": {},
   "outputs": [],
   "source": [
    "data_dict = {}\n",
    "for endpoint in _endpoint:\n",
    "    data_dict[endpoint] = dm.read_sdf(f\"{INDIR}/ADME_{endpoint}.sdf\", as_df=True)\n",
    "    "
   ]
  },
  {
   "cell_type": "code",
   "execution_count": 13,
   "id": "dfc78a69-77f2-44b7-8191-318324a3b57a",
   "metadata": {},
   "outputs": [
    {
     "data": {
      "text/plain": [
       "CollectionName\n",
       "chembl           1614\n",
       "emolecules        187\n",
       "mcule               3\n",
       "labnetworkBB        2\n",
       "enamineBB_pmc       1\n",
       "enamineHTS          1\n",
       "Name: count, dtype: int64"
      ]
     },
     "execution_count": 13,
     "metadata": {},
     "output_type": "execute_result"
    }
   ],
   "source": [
    "data_dict[\"hPPB\"][\"CollectionName\"].value_counts()"
   ]
  },
  {
   "cell_type": "code",
   "execution_count": 15,
   "id": "9a7c9a1d-20b9-486b-a207-302ae15d5b72",
   "metadata": {},
   "outputs": [],
   "source": [
    "data = dm.read_csv(\"ADME_public_set_3521.csv\")"
   ]
  },
  {
   "cell_type": "code",
   "execution_count": 16,
   "id": "cfd8e158-246f-4d07-ad82-7a301fdf2f8b",
   "metadata": {},
   "outputs": [
    {
     "data": {
      "text/plain": [
       "CollectionName\n",
       "emolecules       187\n",
       "mcule              3\n",
       "labnetworkBB       2\n",
       "enamineBB_pmc      1\n",
       "enamineHTS         1\n",
       "Name: count, dtype: int64"
      ]
     },
     "execution_count": 16,
     "metadata": {},
     "output_type": "execute_result"
    }
   ],
   "source": [
    "data.dropna(subset=endpoints[\"hPPB\"])[\"CollectionName\"].value_counts()"
   ]
  },
  {
   "cell_type": "code",
   "execution_count": 17,
   "id": "79fd4852-1131-42f3-bd46-67d78d28e23d",
   "metadata": {},
   "outputs": [],
   "source": [
    "chembl_dict = {}\n",
    "chembl_dict['hPPB'] = data_dict[\"hPPB\"].query(\"CollectionName == 'chembl'\")\n",
    "chembl_dict['rPPB'] = data_dict[\"rPPB\"].query(\"CollectionName == 'chembl'\")"
   ]
  },
  {
   "cell_type": "code",
   "execution_count": 18,
   "id": "c87647d0-b507-4cfc-9a24-099544ffac43",
   "metadata": {},
   "outputs": [],
   "source": [
    "cols = [\"LOG PLASMA PROTEIN BINDING (RAT) (% unbound)\", \"SMILES\", \"Internal ID\",\"Source\",\"CollectionName\"]\n",
    "pbb_df = chembl_dict['hPPB'].merge(chembl_dict['rPPB'][cols], on=[\"SMILES\", \"Internal ID\",\"Source\",\"CollectionName\"], how=\"outer\")\n",
    "pbb_df.drop(columns=\"smiles\", inplace=True)"
   ]
  },
  {
   "cell_type": "code",
   "execution_count": 21,
   "id": "d6ac4ca3-623c-450b-a30f-b32e78f0713a",
   "metadata": {},
   "outputs": [],
   "source": [
    "extended_data = pd.concat([data, pbb_df], axis=0)"
   ]
  },
  {
   "cell_type": "code",
   "execution_count": 22,
   "id": "a1db7e51-5b6d-4b4e-95eb-e4f2d1a94cda",
   "metadata": {},
   "outputs": [],
   "source": [
    "extended_data.reset_index(drop=True).to_csv(f\"{OUTDIR}/ADME_public_set_extended.csv\", index=False)"
   ]
  },
  {
   "cell_type": "code",
   "execution_count": 23,
   "id": "ac357bda-e5cd-48e7-9b0a-2de8190f5de9",
   "metadata": {
    "scrolled": true
   },
   "outputs": [
    {
     "name": "stdout",
     "output_type": "stream",
     "text": [
      "LOG HLM_CLint (mL/min/kg)\n",
      "CollectionName\n",
      "emolecules       3027\n",
      "enamineHTS         20\n",
      "labnetworkBB       17\n",
      "mcule              17\n",
      "enamineBB_pmc       6\n",
      "Name: count, dtype: int64\n",
      "------------------\n",
      "LOG RLM_CLint (mL/min/kg)\n",
      "CollectionName\n",
      "emolecules       2997\n",
      "enamineHTS         19\n",
      "labnetworkBB       17\n",
      "mcule              15\n",
      "enamineBB_pmc       6\n",
      "Name: count, dtype: int64\n",
      "------------------\n",
      "LOG PLASMA PROTEIN BINDING (HUMAN) (% unbound)\n",
      "CollectionName\n",
      "chembl           1614\n",
      "emolecules        187\n",
      "mcule               3\n",
      "labnetworkBB        2\n",
      "enamineBB_pmc       1\n",
      "enamineHTS          1\n",
      "Name: count, dtype: int64\n",
      "------------------\n",
      "LOG PLASMA PROTEIN BINDING (RAT) (% unbound)\n",
      "CollectionName\n",
      "chembl           717\n",
      "emolecules       162\n",
      "labnetworkBB       3\n",
      "enamineBB_pmc      2\n",
      "mcule              1\n",
      "Name: count, dtype: int64\n",
      "------------------\n",
      "LOG MDR1-MDCK ER (B-A/A-B)\n",
      "CollectionName\n",
      "emolecules       2594\n",
      "labnetworkBB       16\n",
      "enamineHTS         14\n",
      "mcule              13\n",
      "enamineBB_pmc       5\n",
      "Name: count, dtype: int64\n",
      "------------------\n",
      "LOG SOLUBILITY PH 6.8 (ug/mL)\n",
      "CollectionName\n",
      "emolecules       2131\n",
      "enamineHTS         18\n",
      "labnetworkBB       11\n",
      "mcule              10\n",
      "enamineBB_pmc       3\n",
      "Name: count, dtype: int64\n",
      "------------------\n"
     ]
    }
   ],
   "source": [
    "for col in data_cols:\n",
    "    print(col)\n",
    "    print(extended_data.dropna(subset=[col])[\"CollectionName\"].value_counts())\n",
    "    print(\"------------------\")"
   ]
  },
  {
   "cell_type": "code",
   "execution_count": 24,
   "id": "76713e4d-9a82-4d74-b620-6085df117d0f",
   "metadata": {},
   "outputs": [],
   "source": [
    "file = f\"{OUTDIR}/ADME_public_set_extended.csv\""
   ]
  },
  {
   "cell_type": "code",
   "execution_count": 25,
   "id": "f6cbe27a-c28f-4174-8a18-99c687bd2fd6",
   "metadata": {},
   "outputs": [
    {
     "data": {
      "text/plain": [
       "'gs://polaris-private/dataset/DMPK/ADME_public_set_extended.csv'"
      ]
     },
     "execution_count": 25,
     "metadata": {},
     "output_type": "execute_result"
    }
   ],
   "source": [
    "file"
   ]
  },
  {
   "cell_type": "code",
   "execution_count": 27,
   "id": "5076dd85-8318-4177-807f-acaf9bcc0d74",
   "metadata": {},
   "outputs": [],
   "source": [
    "data = pd.read_csv(file)\n",
    "curator_with_stereo = curation.MolecularCurator(data=data, data_cols=data_cols, mol_col=\"SMILES\",\n",
    "                                                mask_stereo_undefined_mols=True, \n",
    "                                                class_thresholds={endpoints[ep]:class_thresholds[ep] for ep in class_thresholds.keys()})\n",
    "df_full = curator_with_stereo.run()"
   ]
  },
  {
   "cell_type": "code",
   "execution_count": 28,
   "id": "576e81eb-a870-499e-9caf-beda4b494169",
   "metadata": {},
   "outputs": [],
   "source": [
    "file_out = 'gs://polaris-private/dataset/DMPK/ADME_public_set_extended_curated_v1.csv'\n",
    "df_full.to_csv(file_out, index=False)"
   ]
  },
  {
   "cell_type": "code",
   "execution_count": null,
   "id": "cf17eba8-828c-4dd4-b6da-589b358d7819",
   "metadata": {},
   "outputs": [],
   "source": []
  }
 ],
 "metadata": {
  "kernelspec": {
   "display_name": "Python 3 (ipykernel)",
   "language": "python",
   "name": "python3"
  },
  "language_info": {
   "codemirror_mode": {
    "name": "ipython",
    "version": 3
   },
   "file_extension": ".py",
   "mimetype": "text/x-python",
   "name": "python",
   "nbconvert_exporter": "python",
   "pygments_lexer": "ipython3",
   "version": "3.11.4"
  }
 },
 "nbformat": 4,
 "nbformat_minor": 5
}
